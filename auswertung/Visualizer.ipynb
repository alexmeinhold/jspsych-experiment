{
 "cells": [
  {
   "cell_type": "code",
   "execution_count": 65,
   "metadata": {},
   "outputs": [],
   "source": [
    "import json \n",
    "import os\n",
    "import numpy as np\n",
    "import pprint\n",
    "\n",
    "file = os.getcwd() + \"/results.json\"\n",
    "\n",
    "with open(file,\"r\") as f:\n",
    "    data = json.load(f)\n",
    "    entries = list(data)\n",
    "\n",
    "generaldata = []\n",
    "last_time = entries[2][\"time_elapsed\"]\n",
    "\n",
    "counter = 1\n",
    "\n",
    "ids = []\n",
    "soa = []\n",
    "soa_diff = []\n",
    "decision_time = []\n",
    "decision_correct = []\n",
    "word_side = []\n",
    "\n",
    "for entry in entries[3:]:\n",
    "    if entry.get(\"soa\",False):\n",
    "\n",
    "        _soa = entry[\"soa\"]\n",
    "        _time = entry[\"time_elapsed\"] - last_time\n",
    "        last_time = entry[\"time_elapsed\"]\n",
    "        _diff = np.abs(entry[\"measured_soa\"] - _soa)\n",
    "        _d = entry[\"response_correct\"]\n",
    "        _ws = \"l\" if entry[\"probeLeft\"] else \"r\"\n",
    "\n",
    "        generaldata.append(\n",
    "            {\n",
    "                \"id\" : counter,\n",
    "                \"soa\" : _soa,\n",
    "                \"soa_diff\" : _diff,\n",
    "                \"decision_time\" : _time,\n",
    "                \"decision_correct\" : _d,\n",
    "                \"word_side\" : _ws\n",
    "            }\n",
    "        )\n",
    "\n",
    "        ids.append(counter)\n",
    "        soa.append(_soa)\n",
    "        soa_diff.append(_time)\n",
    "        decision_time.append(_diff)\n",
    "        decision_correct.append(_d)\n",
    "        word_side.append(_ws)\n",
    "\n",
    "        # can not use enumerate due to some entries beeing invalid\n",
    "        counter +=1\n",
    "\n",
    "    last_time = _time\n",
    "\n",
    "# garbage now\n",
    "entries = None\n",
    "\n",
    "ids = np.array(ids)\n",
    "soa = np.array(soa)\n",
    "soa_diff = np.array(soa_diff)\n",
    "decision_time = np.array(decision_time)\n",
    "decision_correct = np.array(decision_correct)\n",
    "word_side = np.array(word_side)\n"
   ]
  },
  {
   "cell_type": "code",
   "execution_count": 67,
   "metadata": {},
   "outputs": [
    {
     "ename": "TypeError",
     "evalue": "zip argument #1 must support iteration",
     "output_type": "error",
     "traceback": [
      "\u001b[0;31m---------------------------------------------------------------------------\u001b[0m",
      "\u001b[0;31mTypeError\u001b[0m                                 Traceback (most recent call last)",
      "\u001b[0;32m<ipython-input-67-a7426a759cd6>\u001b[0m in \u001b[0;36m<module>\u001b[0;34m()\u001b[0m\n\u001b[1;32m      2\u001b[0m \u001b[0;34m\u001b[0m\u001b[0m\n\u001b[1;32m      3\u001b[0m \u001b[0mall_soas\u001b[0m \u001b[0;34m=\u001b[0m \u001b[0mnp\u001b[0m\u001b[0;34m.\u001b[0m\u001b[0munique\u001b[0m\u001b[0;34m(\u001b[0m\u001b[0msoa\u001b[0m\u001b[0;34m)\u001b[0m\u001b[0;34m\u001b[0m\u001b[0;34m\u001b[0m\u001b[0m\n\u001b[0;32m----> 4\u001b[0;31m \u001b[0mall_decisions\u001b[0m \u001b[0;34m=\u001b[0m \u001b[0mnp\u001b[0m\u001b[0;34m.\u001b[0m\u001b[0marray\u001b[0m\u001b[0;34m(\u001b[0m\u001b[0mlist\u001b[0m\u001b[0;34m(\u001b[0m\u001b[0mzip\u001b[0m\u001b[0;34m(\u001b[0m\u001b[0msoa\u001b[0m\u001b[0;34m,\u001b[0m\u001b[0mdecision_correct\u001b[0m\u001b[0;34m)\u001b[0m\u001b[0;34m)\u001b[0m\u001b[0;34m)\u001b[0m\u001b[0;34m\u001b[0m\u001b[0;34m\u001b[0m\u001b[0m\n\u001b[0m\u001b[1;32m      5\u001b[0m \u001b[0;34m\u001b[0m\u001b[0m\n\u001b[1;32m      6\u001b[0m \u001b[0;34m\u001b[0m\u001b[0m\n",
      "\u001b[0;31mTypeError\u001b[0m: zip argument #1 must support iteration"
     ]
    }
   ],
   "source": [
    "import plotly.graph_objects as go\n",
    "\n",
    "all_soas = np.unique(soa)\n",
    "all_decisions = np.array(list(zip(soa,decision_correct)))\n",
    "\n",
    "\n",
    "\n",
    "for soa in all_soas:\n",
    "    index = np.argwhere(all_decisions[:,0]==soa)\n",
    "    n = index.shape[0]\n",
    "    right_decisions = all_decisions[:,index]\n",
    "    print(index)\n",
    "    print(n)\n",
    "    print(right_decision)"
   ]
  },
  {
   "cell_type": "code",
   "execution_count": null,
   "metadata": {},
   "outputs": [],
   "source": []
  }
 ],
 "metadata": {
  "kernelspec": {
   "display_name": "Python 3",
   "language": "python",
   "name": "python3"
  },
  "language_info": {
   "codemirror_mode": {
    "name": "ipython",
    "version": 3
   },
   "file_extension": ".py",
   "mimetype": "text/x-python",
   "name": "python",
   "nbconvert_exporter": "python",
   "pygments_lexer": "ipython3",
   "version": "3.7.5-final"
  }
 },
 "nbformat": 4,
 "nbformat_minor": 2
}