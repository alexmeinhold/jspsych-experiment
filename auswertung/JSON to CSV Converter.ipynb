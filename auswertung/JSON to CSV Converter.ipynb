{
 "cells": [
  {
   "cell_type": "code",
   "execution_count": 7,
   "metadata": {},
   "outputs": [],
   "source": [
    "import json \n",
    "import os\n",
    "import numpy as np\n",
    "import pprint\n",
    "import pathlib\n",
    "\n",
    "\n",
    "path = os.getcwd() + \"/rohdaten/rechtslinks/\"\n",
    "\n",
    "for file in os.listdir(path):\n",
    "    if \"csv\" not in file:\n",
    "        with open(path + \"/\" + file,\"r\") as f:\n",
    "            with open(path + \"/\" + file + \".csv\",\"w\") as csv:\n",
    "                csv.write(\"Condition,SOA,Repetitions,Count,Relative\\n\")\n",
    "\n",
    "                soa = []\n",
    "                decision_correct = []\n",
    "                response = []\n",
    "                data = list(json.load(f))\n",
    "\n",
    "                for entry in data[14:-1]:\n",
    "\n",
    "                    if entry.get(\"soa\",None) is not None:\n",
    "\n",
    "                        _soa = entry[\"soa\"]\n",
    "                        _d = int(entry[\"response_correct\"])\n",
    "                        _res = 1 if entry[\"response\"] == \"probe\" else 0\n",
    "\n",
    "                        soa.append(_soa)\n",
    "                        decision_correct.append(_d)\n",
    "                        response.append(_res)\n",
    "\n",
    "                soa = np.array(soa)\n",
    "                decision_correct = np.array(decision_correct)\n",
    "                response = np.array(response)\n",
    "\n",
    "                all_soas = np.unique(soa)\n",
    "                all_decisions = np.array(list(zip(soa,decision_correct)))\n",
    "                all_probes = np.array(list(zip(soa,response)))\n",
    "\n",
    "                for soa in all_soas:\n",
    "                    index = np.argwhere(all_probes[:,0]==soa)\n",
    "                    n = index.shape[0]\n",
    "                    right_decisions = np.sum(all_probes[index,1])\n",
    "                    csv.write(f\"0,{soa},{n},{right_decisions},{right_decisions/n}\\n\")\n"
   ]
  }
 ],
 "metadata": {
  "kernelspec": {
   "display_name": "Python 3",
   "language": "python",
   "name": "python3"
  },
  "language_info": {
   "codemirror_mode": {
    "name": "ipython",
    "version": 3
   },
   "file_extension": ".py",
   "mimetype": "text/x-python",
   "name": "python",
   "nbconvert_exporter": "python",
   "pygments_lexer": "ipython3",
   "version": "3.7.4"
  }
 },
 "nbformat": 4,
 "nbformat_minor": 2
}
