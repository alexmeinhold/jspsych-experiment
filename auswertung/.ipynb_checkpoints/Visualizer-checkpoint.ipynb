{
 "cells": [
  {
   "cell_type": "code",
   "execution_count": null,
   "metadata": {},
   "outputs": [],
   "source": [
    "import json \n",
    "import os\n",
    "import plotly\n",
    "import numpy as np\n",
    "import pprint\n",
    "\n",
    "file = os.getcwd() + \"\\\\results.json\"\n",
    "\n",
    "with open(file,\"r\") as f:\n",
    "    data = json.load(f)\n",
    "    entries = list(data)\n",
    "\n",
    "generaldata = []\n",
    "last_time = entries[2][\"time_elapsed\"]\n",
    "\n",
    "for i,entry in enumerate(entries[3:]):\n",
    "    if entry.get(\"soa\",False):\n",
    "        _soa = entry[\"soa\"]\n",
    "        _time = entry[\"time_elapsed\"]\n",
    "\n",
    "        generaldata.append(\n",
    "            {\n",
    "                \"id\" : i,\n",
    "                \"soa\" : _soa,\n",
    "                \"soa_diff\" : np.abs(entry[\"measured_soa\"] - _soa),\n",
    "                \"decision_time\" : entry[\"time_elapsed\"] - last_time,\n",
    "                \"decision_correct\" : entry[\"response_correct\"],\n",
    "                \"word_side\" : \"l\" if entry[\"probeLeft\"] else \"r\"\n",
    "            }\n",
    "        )\n",
    "\n",
    "    last_time = _time\n",
    "\n",
    "# garbage now\n",
    "entries = None\n",
    "\n",
    "print(generaldata)"
   ]
  }
 ],
 "metadata": {
  "kernelspec": {
   "display_name": "Python 3",
   "language": "python",
   "name": "python3"
  },
  "language_info": {
   "codemirror_mode": {
    "name": "ipython",
    "version": 3
   },
   "file_extension": ".py",
   "mimetype": "text/x-python",
   "name": "python",
   "nbconvert_exporter": "python",
   "pygments_lexer": "ipython3",
   "version": "3.7.5"
  }
 },
 "nbformat": 4,
 "nbformat_minor": 2
}
